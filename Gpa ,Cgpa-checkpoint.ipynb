{
 "cells": [
  {
   "cell_type": "code",
   "execution_count": 3,
   "id": "ec32423c-c168-48fa-998e-fa7a8e3c333b",
   "metadata": {},
   "outputs": [
    {
     "name": "stdin",
     "output_type": "stream",
     "text": [
      "Number of subjects:  4\n",
      "Marks for subject 1 (0-100):  70\n",
      "Marks for subject 2 (0-100):  59\n",
      "Marks for subject 3 (0-100):  78\n",
      "Marks for subject 4 (0-100):  66\n"
     ]
    },
    {
     "name": "stdout",
     "output_type": "stream",
     "text": [
      "\n",
      "✅ GPA (this semester): 2.75\n"
     ]
    },
    {
     "name": "stdin",
     "output_type": "stream",
     "text": [
      "\n",
      "Previous CGPA (enter 0 if none):  2.66\n",
      "Number of completed semesters (excluding this one):  4\n"
     ]
    },
    {
     "name": "stdout",
     "output_type": "stream",
     "text": [
      "🎯 Updated CGPA: 2.68\n"
     ]
    }
   ],
   "source": [
    "# Simple GPA & CGPA (Jupyter-friendly)\n",
    "def calculate_gpa(marks):\n",
    "    points = []\n",
    "    for m in marks:\n",
    "        if m >= 85:\n",
    "            points.append(4.0)\n",
    "        elif m >= 80:\n",
    "            points.append(3.7)\n",
    "        elif m >= 75:\n",
    "            points.append(3.3)\n",
    "        elif m >= 70:\n",
    "            points.append(3.0)\n",
    "        elif m >= 65:\n",
    "            points.append(2.7)\n",
    "        elif m >= 60:\n",
    "            points.append(2.3)\n",
    "        elif m >= 55:\n",
    "            points.append(2.0)\n",
    "        elif m >= 50:\n",
    "            points.append(1.7)\n",
    "        else:\n",
    "            points.append(0.0)\n",
    "    return round(sum(points)/len(points), 2)\n",
    "\n",
    "# --- Get inputs in notebook ---\n",
    "n = int(input(\"Number of subjects: \"))\n",
    "marks = []\n",
    "for i in range(n):\n",
    "    m = float(input(f\"Marks for subject {i+1} (0-100): \"))\n",
    "    marks.append(m)\n",
    "\n",
    "gpa = calculate_gpa(marks)\n",
    "print(f\"\\n✅ GPA (this semester): {gpa}\")\n",
    "\n",
    "prev_cgpa = float(input(\"\\nPrevious CGPA (enter 0 if none): \"))\n",
    "prev_sem = int(input(\"Number of completed semesters (excluding this one): \"))\n",
    "\n",
    "if prev_sem > 0:\n",
    "    cgpa = ((prev_cgpa * prev_sem) + gpa) / (prev_sem + 1)\n",
    "    print(f\"🎯 Updated CGPA: {round(cgpa,2)}\")\n",
    "else:\n",
    "    print(\"ℹ️ No previous semesters — CGPA = GPA\")\n"
   ]
  },
  {
   "cell_type": "code",
   "execution_count": null,
   "id": "2c23115d-c210-4356-a83b-50df361f9707",
   "metadata": {},
   "outputs": [],
   "source": []
  }
 ],
 "metadata": {
  "kernelspec": {
   "display_name": "Python 3 (ipykernel)",
   "language": "python",
   "name": "python3"
  },
  "language_info": {
   "codemirror_mode": {
    "name": "ipython",
    "version": 3
   },
   "file_extension": ".py",
   "mimetype": "text/x-python",
   "name": "python",
   "nbconvert_exporter": "python",
   "pygments_lexer": "ipython3",
   "version": "3.12.7"
  }
 },
 "nbformat": 4,
 "nbformat_minor": 5
}
